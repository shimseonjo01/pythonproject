{
 "cells": [
  {
   "cell_type": "code",
   "execution_count": 1,
   "id": "abc3e90e",
   "metadata": {},
   "outputs": [
    {
     "name": "stdout",
     "output_type": "stream",
     "text": [
      "hello world!!!\n"
     ]
    }
   ],
   "source": [
    "print('hello world!!!')"
   ]
  },
  {
   "cell_type": "code",
   "execution_count": 1,
   "id": "82c2fd03",
   "metadata": {},
   "outputs": [],
   "source": [
    "# 한글작업"
   ]
  },
  {
   "cell_type": "code",
   "execution_count": 4,
   "id": "08502f5a-9d0a-45df-8b0b-133267dd384d",
   "metadata": {},
   "outputs": [],
   "source": [
    "a = 5\n",
    "if a == 10:\n",
    "    print('10입니다')\n",
    "    print('10입니다')"
   ]
  },
  {
   "cell_type": "code",
   "execution_count": 3,
   "id": "218037e7-1d30-4f64-ba4c-533ee85055d8",
   "metadata": {},
   "outputs": [
    {
     "ename": "IndentationError",
     "evalue": "expected an indented block (Temp/ipykernel_9828/2359339323.py, line 3)",
     "output_type": "error",
     "traceback": [
      "\u001b[1;36m  File \u001b[1;32m\"C:\\Users\\Admin\\AppData\\Local\\Temp/ipykernel_9828/2359339323.py\"\u001b[1;36m, line \u001b[1;32m3\u001b[0m\n\u001b[1;33m    print('10입니다')\u001b[0m\n\u001b[1;37m    ^\u001b[0m\n\u001b[1;31mIndentationError\u001b[0m\u001b[1;31m:\u001b[0m expected an indented block\n"
     ]
    }
   ],
   "source": [
    "a = 5\n",
    "if a == 10:\n",
    "print('10입니다')"
   ]
  },
  {
   "cell_type": "code",
   "execution_count": 5,
   "id": "be7ce1ac-98fb-4ec3-ad4f-964f0ebcdb0b",
   "metadata": {},
   "outputs": [
    {
     "data": {
      "text/plain": [
       "3"
      ]
     },
     "execution_count": 5,
     "metadata": {},
     "output_type": "execute_result"
    }
   ],
   "source": [
    "1+1+1"
   ]
  },
  {
   "cell_type": "code",
   "execution_count": 6,
   "id": "d8a853d0-04b5-4713-9977-e07f38e5bbf5",
   "metadata": {},
   "outputs": [
    {
     "data": {
      "text/plain": [
       "2.0"
      ]
     },
     "execution_count": 6,
     "metadata": {},
     "output_type": "execute_result"
    }
   ],
   "source": [
    "1+1.0"
   ]
  },
  {
   "cell_type": "code",
   "execution_count": 7,
   "id": "2cf275c3-cc24-4f49-ae2e-5f5572a1e7fb",
   "metadata": {},
   "outputs": [
    {
     "data": {
      "text/plain": [
       "2.0"
      ]
     },
     "execution_count": 7,
     "metadata": {},
     "output_type": "execute_result"
    }
   ],
   "source": [
    "4/2"
   ]
  },
  {
   "cell_type": "raw",
   "id": "7b8bbc09-6984-4749-b544-c5c14317aa1a",
   "metadata": {},
   "source": [
    " +,-,*,/,//(몫),%(나머지),**(거듭제곱)"
   ]
  },
  {
   "cell_type": "markdown",
   "id": "c9585375-8e24-4271-ad0b-1ba9bb3d5f8b",
   "metadata": {},
   "source": [
    "# 제목"
   ]
  },
  {
   "cell_type": "markdown",
   "id": "e950deed-ae3b-4916-b534-79bf0814fd0e",
   "metadata": {},
   "source": [
    "[네이버](http://www.naver.com)"
   ]
  },
  {
   "cell_type": "markdown",
   "id": "0dac7edd-6e13-4a50-acdb-5b42662667cd",
   "metadata": {},
   "source": [
    "![](img01.jfif)"
   ]
  },
  {
   "cell_type": "code",
   "execution_count": 14,
   "id": "f9d9b5ed-8129-4478-8087-d76966f1995b",
   "metadata": {},
   "outputs": [
    {
     "name": "stdin",
     "output_type": "stream",
     "text": [
      "숫자를 입력하세요 >>>  56\n"
     ]
    }
   ],
   "source": [
    "a = input('숫자를 입력하세요 >>> ')"
   ]
  },
  {
   "cell_type": "code",
   "execution_count": 13,
   "id": "3c5d824b-b663-4310-8548-97e9549dd67f",
   "metadata": {
    "collapsed": true,
    "jupyter": {
     "outputs_hidden": true
    },
    "tags": []
   },
   "outputs": [
    {
     "data": {
      "text/plain": [
       "\u001b[1;31mSignature:\u001b[0m \u001b[0minput\u001b[0m\u001b[1;33m(\u001b[0m\u001b[0mprompt\u001b[0m\u001b[1;33m=\u001b[0m\u001b[1;34m''\u001b[0m\u001b[1;33m)\u001b[0m\u001b[1;33m\u001b[0m\u001b[1;33m\u001b[0m\u001b[0m\n",
       "\u001b[1;31mDocstring:\u001b[0m\n",
       "Forward raw_input to frontends\n",
       "\n",
       "Raises\n",
       "------\n",
       "StdinNotImplementedError if active frontend doesn't support stdin.\n",
       "\u001b[1;31mFile:\u001b[0m      c:\\users\\admin\\anaconda3\\lib\\site-packages\\ipykernel\\kernelbase.py\n",
       "\u001b[1;31mType:\u001b[0m      method\n"
      ]
     },
     "metadata": {},
     "output_type": "display_data"
    }
   ],
   "source": [
    "input?  #input() 범위안에 커서 두고 tab+shift"
   ]
  },
  {
   "cell_type": "code",
   "execution_count": 15,
   "id": "bf03c852-75bc-49e3-a297-113cb4ac4b0e",
   "metadata": {},
   "outputs": [
    {
     "data": {
      "text/plain": [
       "str"
      ]
     },
     "execution_count": 15,
     "metadata": {},
     "output_type": "execute_result"
    }
   ],
   "source": [
    "type(a)"
   ]
  },
  {
   "cell_type": "code",
   "execution_count": 16,
   "id": "e98d8861-aed3-4cc2-b626-d7d706db23a2",
   "metadata": {},
   "outputs": [],
   "source": [
    "a = int(a)"
   ]
  },
  {
   "cell_type": "code",
   "execution_count": 17,
   "id": "496de66c-d5a3-435e-a45a-34da730dc844",
   "metadata": {},
   "outputs": [
    {
     "data": {
      "text/plain": [
       "int"
      ]
     },
     "execution_count": 17,
     "metadata": {},
     "output_type": "execute_result"
    }
   ],
   "source": [
    "type(a)"
   ]
  },
  {
   "cell_type": "code",
   "execution_count": 19,
   "id": "7f204798-40e3-4417-93f0-c1dc04a56c27",
   "metadata": {},
   "outputs": [
    {
     "data": {
      "text/plain": [
       "float"
      ]
     },
     "execution_count": 19,
     "metadata": {},
     "output_type": "execute_result"
    }
   ],
   "source": [
    "a = float(a)\n",
    "type(a)"
   ]
  },
  {
   "cell_type": "code",
   "execution_count": 20,
   "id": "babdad90-d9dc-476e-8186-f269ce884ca2",
   "metadata": {},
   "outputs": [
    {
     "data": {
      "text/plain": [
       "str"
      ]
     },
     "execution_count": 20,
     "metadata": {},
     "output_type": "execute_result"
    }
   ],
   "source": [
    "a = str(a)\n",
    "type(a)"
   ]
  },
  {
   "cell_type": "code",
   "execution_count": 21,
   "id": "f62ad8f6-0ad3-4d8e-bd23-7d35fa4ce571",
   "metadata": {},
   "outputs": [
    {
     "name": "stdin",
     "output_type": "stream",
     "text": [
      "숫자를 입력하세요 가나다\n"
     ]
    },
    {
     "data": {
      "text/plain": [
       "str"
      ]
     },
     "execution_count": 21,
     "metadata": {},
     "output_type": "execute_result"
    }
   ],
   "source": [
    "b = input('숫자를 입력하세요')\n",
    "type(b)"
   ]
  },
  {
   "cell_type": "code",
   "execution_count": 23,
   "id": "8fada91c-4acb-47ba-91c7-e0944d15991c",
   "metadata": {
    "collapsed": true,
    "jupyter": {
     "outputs_hidden": true
    },
    "tags": []
   },
   "outputs": [
    {
     "ename": "ValueError",
     "evalue": "invalid literal for int() with base 10: '가나다'",
     "output_type": "error",
     "traceback": [
      "\u001b[1;31m---------------------------------------------------------------------------\u001b[0m",
      "\u001b[1;31mValueError\u001b[0m                                Traceback (most recent call last)",
      "\u001b[1;32m~\\AppData\\Local\\Temp/ipykernel_9828/3956108814.py\u001b[0m in \u001b[0;36m<module>\u001b[1;34m\u001b[0m\n\u001b[1;32m----> 1\u001b[1;33m \u001b[0mint\u001b[0m\u001b[1;33m(\u001b[0m\u001b[0mb\u001b[0m\u001b[1;33m)\u001b[0m\u001b[1;33m\u001b[0m\u001b[1;33m\u001b[0m\u001b[0m\n\u001b[0m",
      "\u001b[1;31mValueError\u001b[0m: invalid literal for int() with base 10: '가나다'"
     ]
    }
   ],
   "source": [
    "int(b)"
   ]
  },
  {
   "cell_type": "code",
   "execution_count": 24,
   "id": "998ab687-8d64-4bf5-9772-cf983c1be90f",
   "metadata": {},
   "outputs": [
    {
     "data": {
      "text/plain": [
       "False"
      ]
     },
     "execution_count": 24,
     "metadata": {},
     "output_type": "execute_result"
    }
   ],
   "source": [
    "b.isdecimal()"
   ]
  },
  {
   "cell_type": "code",
   "execution_count": 25,
   "id": "76ff50aa-4e4a-4bf9-941a-3b5517acdc7a",
   "metadata": {},
   "outputs": [
    {
     "name": "stdout",
     "output_type": "stream",
     "text": [
      "문자일때 할일\n"
     ]
    }
   ],
   "source": [
    "if b.isdecimal():\n",
    "    print('참일때 해야될일')\n",
    "elif b.isalpha():\n",
    "    print('문자일때 할일')\n",
    "else:\n",
    "    print('그외 나머지')"
   ]
  },
  {
   "cell_type": "raw",
   "id": "190b3222-47f0-4ae1-9707-4eab26823dbf",
   "metadata": {},
   "source": [
    "박스당 과일을 넣어서 몇박스 몇개인지를 출력해주는 프로그램 작성\n",
    "- 조건체크 : 입력값이 숫자인지 여부 체크해서 진행\n",
    "- 입력 받을 값 : 박스당 과일수, 전체 과일수\n",
    "- 출력 내용 : X박스 X개"
   ]
  },
  {
   "cell_type": "code",
   "execution_count": 27,
   "id": "6490a21f-6ac3-40db-ad5b-e49e3134085b",
   "metadata": {},
   "outputs": [
    {
     "name": "stdin",
     "output_type": "stream",
     "text": [
      "박스당 과일의 갯수 >>> 두개\n",
      "전체 과일수 >>> 456\n"
     ]
    },
    {
     "name": "stdout",
     "output_type": "stream",
     "text": [
      "입력값이 잘못되었습니다.\n"
     ]
    }
   ],
   "source": [
    "a1 = input('박스당 과일의 갯수 >>>')\n",
    "a2 = input('전체 과일수 >>>')\n",
    "if a1.isdecimal() and a2.isdecimal():\n",
    "    a1,a2 = int(a1),int(a2)\n",
    "    box = a2//a1\n",
    "    count = a2%a1\n",
    "    print(box,'박스 ',count,'개')\n",
    "else:\n",
    "    print('입력값이 잘못되었습니다.')   "
   ]
  },
  {
   "cell_type": "code",
   "execution_count": 29,
   "id": "bdbcd0b4-bc3b-4b2d-b14d-908cd9ebb798",
   "metadata": {},
   "outputs": [],
   "source": [
    "a=divmod(5,2)"
   ]
  },
  {
   "cell_type": "code",
   "execution_count": 30,
   "id": "635c4acb-f7ec-45b9-af55-dcf574203fc3",
   "metadata": {},
   "outputs": [
    {
     "data": {
      "text/plain": [
       "(2, 1)"
      ]
     },
     "execution_count": 30,
     "metadata": {},
     "output_type": "execute_result"
    }
   ],
   "source": [
    "a"
   ]
  },
  {
   "cell_type": "code",
   "execution_count": 31,
   "id": "c0f81b22-5d89-4fa0-b2a4-ce2018af6265",
   "metadata": {},
   "outputs": [
    {
     "data": {
      "text/plain": [
       "2"
      ]
     },
     "execution_count": 31,
     "metadata": {},
     "output_type": "execute_result"
    }
   ],
   "source": [
    "a[0]"
   ]
  },
  {
   "cell_type": "code",
   "execution_count": 32,
   "id": "8e2a0202-378f-48bf-b147-d0918ae93ba9",
   "metadata": {},
   "outputs": [
    {
     "data": {
      "text/plain": [
       "5"
      ]
     },
     "execution_count": 32,
     "metadata": {},
     "output_type": "execute_result"
    }
   ],
   "source": [
    "0b00101"
   ]
  },
  {
   "cell_type": "code",
   "execution_count": 35,
   "id": "c49e1a9e-ee9f-4f87-bc57-0d246e714099",
   "metadata": {},
   "outputs": [
    {
     "data": {
      "text/plain": [
       "342391"
      ]
     },
     "execution_count": 35,
     "metadata": {},
     "output_type": "execute_result"
    }
   ],
   "source": [
    "0o1234567"
   ]
  },
  {
   "cell_type": "code",
   "execution_count": 37,
   "id": "d3a832e9-ef5a-40d9-8d14-33d0d1220d0a",
   "metadata": {},
   "outputs": [
    {
     "data": {
      "text/plain": [
       "2479"
      ]
     },
     "execution_count": 37,
     "metadata": {},
     "output_type": "execute_result"
    }
   ],
   "source": [
    "0x09af"
   ]
  },
  {
   "cell_type": "code",
   "execution_count": 38,
   "id": "a9d4f313-71ca-4a06-a2b9-40a8f5cd08c3",
   "metadata": {},
   "outputs": [
    {
     "ename": "SyntaxError",
     "evalue": "invalid syntax (Temp/ipykernel_9828/1538684465.py, line 1)",
     "output_type": "error",
     "traceback": [
      "\u001b[1;36m  File \u001b[1;32m\"C:\\Users\\Admin\\AppData\\Local\\Temp/ipykernel_9828/1538684465.py\"\u001b[1;36m, line \u001b[1;32m1\u001b[0m\n\u001b[1;33m    7up = 'hhhh'\u001b[0m\n\u001b[1;37m     ^\u001b[0m\n\u001b[1;31mSyntaxError\u001b[0m\u001b[1;31m:\u001b[0m invalid syntax\n"
     ]
    }
   ],
   "source": [
    "7up = 'hhhh'"
   ]
  },
  {
   "cell_type": "code",
   "execution_count": 39,
   "id": "e63af5b7-c704-4e55-905f-7485446510c1",
   "metadata": {},
   "outputs": [],
   "source": [
    "up7 = 'hhhh'"
   ]
  },
  {
   "cell_type": "code",
   "execution_count": 40,
   "id": "c5460ce7-f968-4ffc-9b5d-0765c1ac8165",
   "metadata": {},
   "outputs": [
    {
     "data": {
      "text/plain": [
       "'hhhh'"
      ]
     },
     "execution_count": 40,
     "metadata": {},
     "output_type": "execute_result"
    }
   ],
   "source": [
    "up7"
   ]
  },
  {
   "cell_type": "code",
   "execution_count": 41,
   "id": "7dc66376-9eab-47a9-b0ad-e5be7d9c01a6",
   "metadata": {},
   "outputs": [],
   "source": [
    "del up7"
   ]
  },
  {
   "cell_type": "code",
   "execution_count": 42,
   "id": "3c47d116-e755-4f2a-89ac-1fc3fc0c94a6",
   "metadata": {},
   "outputs": [
    {
     "ename": "NameError",
     "evalue": "name 'up7' is not defined",
     "output_type": "error",
     "traceback": [
      "\u001b[1;31m---------------------------------------------------------------------------\u001b[0m",
      "\u001b[1;31mNameError\u001b[0m                                 Traceback (most recent call last)",
      "\u001b[1;32m~\\AppData\\Local\\Temp/ipykernel_9828/1661159455.py\u001b[0m in \u001b[0;36m<module>\u001b[1;34m\u001b[0m\n\u001b[1;32m----> 1\u001b[1;33m \u001b[0mup7\u001b[0m\u001b[1;33m\u001b[0m\u001b[1;33m\u001b[0m\u001b[0m\n\u001b[0m",
      "\u001b[1;31mNameError\u001b[0m: name 'up7' is not defined"
     ]
    }
   ],
   "source": [
    "up7"
   ]
  },
  {
   "cell_type": "code",
   "execution_count": 45,
   "id": "9869a9c0-6795-461c-a9cc-7163887f01f5",
   "metadata": {},
   "outputs": [],
   "source": [
    "a = [1,2,3,4,5]"
   ]
  },
  {
   "cell_type": "code",
   "execution_count": 46,
   "id": "14c38866-be21-4f22-8617-dc44a986141d",
   "metadata": {},
   "outputs": [
    {
     "data": {
      "text/plain": [
       "list"
      ]
     },
     "execution_count": 46,
     "metadata": {},
     "output_type": "execute_result"
    }
   ],
   "source": [
    "type(a)"
   ]
  },
  {
   "cell_type": "code",
   "execution_count": 48,
   "id": "9f222757-978f-4e4f-837a-ee927f8b1c6d",
   "metadata": {},
   "outputs": [
    {
     "data": {
      "text/plain": [
       "5"
      ]
     },
     "execution_count": 48,
     "metadata": {},
     "output_type": "execute_result"
    }
   ],
   "source": [
    "a[4]"
   ]
  },
  {
   "cell_type": "code",
   "execution_count": 49,
   "id": "c7a22c37-beb8-4961-9480-4dd3f178267a",
   "metadata": {},
   "outputs": [],
   "source": [
    "del a[1]"
   ]
  },
  {
   "cell_type": "code",
   "execution_count": 50,
   "id": "9bb9af0a-44da-4249-8bf4-a12606fd2acd",
   "metadata": {},
   "outputs": [
    {
     "data": {
      "text/plain": [
       "[1, 3, 4, 5]"
      ]
     },
     "execution_count": 50,
     "metadata": {},
     "output_type": "execute_result"
    }
   ],
   "source": [
    "a"
   ]
  },
  {
   "cell_type": "code",
   "execution_count": 51,
   "id": "8beaa5f8-c871-4b0d-805e-15cfa7eb577d",
   "metadata": {},
   "outputs": [],
   "source": [
    "del a"
   ]
  },
  {
   "cell_type": "code",
   "execution_count": 52,
   "id": "c0db9864-2002-4b33-8a61-8c845740651a",
   "metadata": {},
   "outputs": [
    {
     "ename": "NameError",
     "evalue": "name 'a' is not defined",
     "output_type": "error",
     "traceback": [
      "\u001b[1;31m---------------------------------------------------------------------------\u001b[0m",
      "\u001b[1;31mNameError\u001b[0m                                 Traceback (most recent call last)",
      "\u001b[1;32m~\\AppData\\Local\\Temp/ipykernel_9828/2167009006.py\u001b[0m in \u001b[0;36m<module>\u001b[1;34m\u001b[0m\n\u001b[1;32m----> 1\u001b[1;33m \u001b[0ma\u001b[0m\u001b[1;33m\u001b[0m\u001b[1;33m\u001b[0m\u001b[0m\n\u001b[0m",
      "\u001b[1;31mNameError\u001b[0m: name 'a' is not defined"
     ]
    }
   ],
   "source": [
    "a"
   ]
  },
  {
   "cell_type": "code",
   "execution_count": 53,
   "id": "7a88e4f3-9350-4d82-8c74-09c90929c69e",
   "metadata": {},
   "outputs": [
    {
     "name": "stdout",
     "output_type": "stream",
     "text": [
      "ggggg\n"
     ]
    }
   ],
   "source": [
    "print('ggggg')"
   ]
  },
  {
   "cell_type": "code",
   "execution_count": 54,
   "id": "222a6ab0-904b-49c5-beae-3a07cd3f473e",
   "metadata": {},
   "outputs": [
    {
     "data": {
      "text/plain": [
       "['안녕', '하세요']"
      ]
     },
     "execution_count": 54,
     "metadata": {},
     "output_type": "execute_result"
    }
   ],
   "source": [
    "'안녕 하세요'.split()"
   ]
  },
  {
   "cell_type": "code",
   "execution_count": 55,
   "id": "8f75500b-de33-4888-8686-43f2e7faafea",
   "metadata": {},
   "outputs": [
    {
     "data": {
      "text/plain": [
       "['안녕', '하세요']"
      ]
     },
     "execution_count": 55,
     "metadata": {},
     "output_type": "execute_result"
    }
   ],
   "source": [
    "a = '안녕 하세요'\n",
    "a.split()"
   ]
  },
  {
   "cell_type": "code",
   "execution_count": 56,
   "id": "cb701862-b5a9-4aec-ad88-2a6df82d934e",
   "metadata": {},
   "outputs": [
    {
     "name": "stdin",
     "output_type": "stream",
     "text": [
      " 안녕 하세요 오늘 정말 날씨가 좋아요\n"
     ]
    },
    {
     "data": {
      "text/plain": [
       "['안녕', '하세요', '오늘', '정말', '날씨가', '좋아요']"
      ]
     },
     "execution_count": 56,
     "metadata": {},
     "output_type": "execute_result"
    }
   ],
   "source": [
    "input().split()"
   ]
  },
  {
   "cell_type": "code",
   "execution_count": 60,
   "id": "ffe00232-85df-44d6-88c9-810acb3574b1",
   "metadata": {},
   "outputs": [
    {
     "name": "stdout",
     "output_type": "stream",
     "text": [
      "a,b,cddd\n"
     ]
    }
   ],
   "source": [
    "print('a','b','c',sep=',',end='')\n",
    "print('ddd')"
   ]
  },
  {
   "cell_type": "code",
   "execution_count": 61,
   "id": "a0024283-626b-4f2d-a4a7-31aabad040ae",
   "metadata": {},
   "outputs": [
    {
     "data": {
      "text/plain": [
       "(True, False)"
      ]
     },
     "execution_count": 61,
     "metadata": {},
     "output_type": "execute_result"
    }
   ],
   "source": [
    "True,False"
   ]
  },
  {
   "cell_type": "raw",
   "id": "31f244c9-4ded-4d2b-a4a9-f8ade134aefe",
   "metadata": {},
   "source": [
    "!=,==,>=,<=,>,<"
   ]
  },
  {
   "cell_type": "code",
   "execution_count": 64,
   "id": "3e908920-8f5d-4703-b21e-207e354e0a39",
   "metadata": {},
   "outputs": [
    {
     "data": {
      "text/plain": [
       "True"
      ]
     },
     "execution_count": 64,
     "metadata": {},
     "output_type": "execute_result"
    }
   ],
   "source": [
    "a = 1\n",
    "b = 1.0\n",
    "a == b"
   ]
  },
  {
   "cell_type": "code",
   "execution_count": 65,
   "id": "e11d660e-ac53-4376-ba8a-f51009313773",
   "metadata": {},
   "outputs": [
    {
     "data": {
      "text/plain": [
       "False"
      ]
     },
     "execution_count": 65,
     "metadata": {},
     "output_type": "execute_result"
    }
   ],
   "source": [
    "a is b"
   ]
  },
  {
   "cell_type": "code",
   "execution_count": 69,
   "id": "9ef4d411-8302-486f-9af1-498a9277d973",
   "metadata": {},
   "outputs": [
    {
     "ename": "SyntaxError",
     "evalue": "EOL while scanning string literal (Temp/ipykernel_9828/1737815847.py, line 1)",
     "output_type": "error",
     "traceback": [
      "\u001b[1;36m  File \u001b[1;32m\"C:\\Users\\Admin\\AppData\\Local\\Temp/ipykernel_9828/1737815847.py\"\u001b[1;36m, line \u001b[1;32m1\u001b[0m\n\u001b[1;33m    \"교실에서 '안녕!'\u001b[0m\n\u001b[1;37m               ^\u001b[0m\n\u001b[1;31mSyntaxError\u001b[0m\u001b[1;31m:\u001b[0m EOL while scanning string literal\n"
     ]
    }
   ],
   "source": [
    "\"교실에서 '안녕!'이라고 인사하기\""
   ]
  },
  {
   "cell_type": "code",
   "execution_count": 70,
   "id": "e1594027-f738-4701-96e1-668fc7d215bb",
   "metadata": {},
   "outputs": [
    {
     "data": {
      "text/plain": [
       "'안녕\\n하세요\\n안녕!\\n'"
      ]
     },
     "execution_count": 70,
     "metadata": {},
     "output_type": "execute_result"
    }
   ],
   "source": [
    "'''안녕\n",
    "하세요\n",
    "안녕!\n",
    "'''"
   ]
  },
  {
   "cell_type": "code",
   "execution_count": 71,
   "id": "0da3ba15-5d8b-4a27-95a5-4553f1cbd01e",
   "metadata": {},
   "outputs": [
    {
     "data": {
      "text/plain": [
       "'아\\n니\\n'"
      ]
     },
     "execution_count": 71,
     "metadata": {},
     "output_type": "execute_result"
    }
   ],
   "source": [
    "'아\\n니\\n'"
   ]
  },
  {
   "cell_type": "code",
   "execution_count": 82,
   "id": "b571b919-1df7-4be7-a8b8-887c9525df11",
   "metadata": {},
   "outputs": [
    {
     "data": {
      "text/plain": [
       "'i eat 321212.12  apple. total 6'"
      ]
     },
     "execution_count": 82,
     "metadata": {},
     "output_type": "execute_result"
    }
   ],
   "source": [
    "value = 321212.1234567\n",
    "'i eat {:^10.2f} apple. total {}'.format(value,6)"
   ]
  },
  {
   "cell_type": "code",
   "execution_count": 83,
   "id": "2fce8c96-3f33-4af5-9162-e4bab535b41c",
   "metadata": {},
   "outputs": [
    {
     "data": {
      "text/plain": [
       "'i eat 321,212.12 apple.'"
      ]
     },
     "execution_count": 83,
     "metadata": {},
     "output_type": "execute_result"
    }
   ],
   "source": [
    "f'i eat {value:^10,.2f} apple.'"
   ]
  },
  {
   "cell_type": "code",
   "execution_count": 84,
   "id": "f442359e-ea41-4985-8a0a-6bf75d9a1c7d",
   "metadata": {},
   "outputs": [],
   "source": [
    " a = \"Life is too short\""
   ]
  },
  {
   "cell_type": "code",
   "execution_count": 85,
   "id": "a1f4fd40-a74a-4d7c-b277-c10bd54a3154",
   "metadata": {},
   "outputs": [
    {
     "data": {
      "text/plain": [
       "17"
      ]
     },
     "execution_count": 85,
     "metadata": {},
     "output_type": "execute_result"
    }
   ],
   "source": [
    "len(a)"
   ]
  },
  {
   "cell_type": "code",
   "execution_count": 86,
   "id": "d4a7448f-887d-4cf2-87d2-14d3f7481dc6",
   "metadata": {},
   "outputs": [],
   "source": [
    "a = \"Life is too short, You need Python\""
   ]
  },
  {
   "cell_type": "code",
   "execution_count": 87,
   "id": "92231ccd-81e2-43df-89d4-a030dc1e5b0b",
   "metadata": {},
   "outputs": [
    {
     "data": {
      "text/plain": [
       "'s'"
      ]
     },
     "execution_count": 87,
     "metadata": {},
     "output_type": "execute_result"
    }
   ],
   "source": [
    "a[12]"
   ]
  },
  {
   "cell_type": "code",
   "execution_count": 88,
   "id": "b99df247-e452-41c3-ac85-248ee2a7b292",
   "metadata": {},
   "outputs": [
    {
     "data": {
      "text/plain": [
       "'n'"
      ]
     },
     "execution_count": 88,
     "metadata": {},
     "output_type": "execute_result"
    }
   ],
   "source": [
    "a[-1]"
   ]
  },
  {
   "cell_type": "code",
   "execution_count": 89,
   "id": "71f190ea-2a4b-482a-990b-641b6a83f351",
   "metadata": {},
   "outputs": [
    {
     "data": {
      "text/plain": [
       "'P'"
      ]
     },
     "execution_count": 89,
     "metadata": {},
     "output_type": "execute_result"
    }
   ],
   "source": [
    "a[-6]"
   ]
  },
  {
   "cell_type": "code",
   "execution_count": 90,
   "id": "eaf6bf39-98a9-4d21-9836-0699314e6057",
   "metadata": {},
   "outputs": [
    {
     "data": {
      "text/plain": [
       "'Life'"
      ]
     },
     "execution_count": 90,
     "metadata": {},
     "output_type": "execute_result"
    }
   ],
   "source": [
    "a[0:4]"
   ]
  },
  {
   "cell_type": "code",
   "execution_count": 91,
   "id": "835f6fba-f498-422b-ab41-866d9b5cfef7",
   "metadata": {},
   "outputs": [
    {
     "data": {
      "text/plain": [
       "'hon'"
      ]
     },
     "execution_count": 91,
     "metadata": {},
     "output_type": "execute_result"
    }
   ],
   "source": [
    "a[-3:]"
   ]
  },
  {
   "cell_type": "code",
   "execution_count": 92,
   "id": "7fce139c-87a1-434c-b048-e13a790dd35b",
   "metadata": {},
   "outputs": [
    {
     "name": "stdin",
     "output_type": "stream",
     "text": [
      "이메일을 입력하세요 sh.co.kr\n"
     ]
    },
    {
     "data": {
      "text/plain": [
       "0"
      ]
     },
     "execution_count": 92,
     "metadata": {},
     "output_type": "execute_result"
    }
   ],
   "source": [
    "email = input('이메일을 입력하세요')\n",
    "count = email.count('@')\n",
    "count"
   ]
  },
  {
   "cell_type": "code",
   "execution_count": null,
   "id": "a51f61a8-83b2-44ae-9e89-77aef8945982",
   "metadata": {},
   "outputs": [],
   "source": []
  }
 ],
 "metadata": {
  "kernelspec": {
   "display_name": "Python 3 (ipykernel)",
   "language": "python",
   "name": "python3"
  },
  "language_info": {
   "codemirror_mode": {
    "name": "ipython",
    "version": 3
   },
   "file_extension": ".py",
   "mimetype": "text/x-python",
   "name": "python",
   "nbconvert_exporter": "python",
   "pygments_lexer": "ipython3",
   "version": "3.9.7"
  }
 },
 "nbformat": 4,
 "nbformat_minor": 5
}
