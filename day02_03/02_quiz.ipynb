{
 "cells": [
  {
   "cell_type": "raw",
   "id": "20ca5507-d30b-4101-8203-de6e2ec338c4",
   "metadata": {},
   "source": [
    "quiz 01>\n",
    "주민등록번호 14자리를 입력받아서 성별을 체크합니다.\n",
    "프로그램 종료는 (q,Q)를 누를때 까지 반복처리합니다.\n",
    "\n",
    "입력예:123456-1234567\n",
    "조건처리: - 길이값 체크\n",
    "          - 성별 체크 (가능값:1,2,3,4)\n",
    "출력 : 여성입니다. or 남성입니다."
   ]
  },
  {
   "cell_type": "code",
   "execution_count": 6,
   "id": "f83216f2-2850-4001-b254-3fa0c95b2fda",
   "metadata": {
    "tags": []
   },
   "outputs": [
    {
     "name": "stdin",
     "output_type": "stream",
     "text": [
      "주민등록번호 입력(14자리,종료:q,Q) >>> 12345678901234\n"
     ]
    },
    {
     "name": "stdout",
     "output_type": "stream",
     "text": [
      "입력 문자의 길이가 안맞거나, 성별값의 범위가 아닙니다.\n"
     ]
    },
    {
     "name": "stdin",
     "output_type": "stream",
     "text": [
      "주민등록번호 입력(14자리,종료:q,Q) >>> 123456-5123456\n"
     ]
    },
    {
     "name": "stdout",
     "output_type": "stream",
     "text": [
      "입력 문자의 길이가 안맞거나, 성별값의 범위가 아닙니다.\n"
     ]
    },
    {
     "name": "stdin",
     "output_type": "stream",
     "text": [
      "주민등록번호 입력(14자리,종료:q,Q) >>> 123456-4123456\n"
     ]
    },
    {
     "name": "stdout",
     "output_type": "stream",
     "text": [
      "여성입니다.\n"
     ]
    },
    {
     "name": "stdin",
     "output_type": "stream",
     "text": [
      "주민등록번호 입력(14자리,종료:q,Q) >>> q\n"
     ]
    },
    {
     "name": "stdout",
     "output_type": "stream",
     "text": [
      "프로그램 종료\n"
     ]
    }
   ],
   "source": [
    "while True:\n",
    "    invalue = input('주민등록번호 입력(14자리,종료:q,Q) >>>')\n",
    "    if len(invalue) == 1 and invalue.lower() == 'q':\n",
    "        print('프로그램 종료')\n",
    "        break\n",
    "    elif len(invalue) == 14 and invalue[6] == '-' and invalue[7] in ['1','2','3','4']:\n",
    "        if invalue[7] in ['1','3']:\n",
    "            print('남성입니다.')\n",
    "        else:\n",
    "            print('여성입니다.')\n",
    "    else:\n",
    "        print('입력 문자의 길이가 안맞거나, 성별값의 범위가 아닙니다.')"
   ]
  },
  {
   "cell_type": "raw",
   "id": "9821e11e-d957-4d90-9031-1d45718882d4",
   "metadata": {},
   "source": [
    "quiz 02>\n",
    "로또 번호 추출기\n",
    "총 5셋트의 번호를 추출합니다.\n",
    "한 셋트당 번호는 6개 입니다.\n",
    "번호는 1~45 사이의 번호만 가능합니다.\n",
    "번호는 중복되면 안됩니다.\n",
    "번호를 출력시 오름차순으로 정렬해서 출력합니다."
   ]
  },
  {
   "cell_type": "code",
   "execution_count": 168,
   "id": "ba69f4e0-8627-42ae-938a-9095bf86435a",
   "metadata": {},
   "outputs": [
    {
     "name": "stdout",
     "output_type": "stream",
     "text": [
      "[6, 9, 15, 18, 44, 45]\n",
      "[9, 13, 21, 26, 37, 44]\n",
      "[2, 10, 19, 27, 34, 35]\n",
      "[1, 20, 23, 24, 39, 44]\n",
      "[6, 8, 10, 18, 25, 39]\n"
     ]
    }
   ],
   "source": [
    "import random\n",
    "for i in range(5):\n",
    "    lotto = [0,0,0,0,0,0]\n",
    "    for x in range(6):\n",
    "        num = 0\n",
    "        while (num in lotto):\n",
    "            num = random.randint(1,45)\n",
    "        lotto[x] = num\n",
    "    lotto.sort()\n",
    "    print(lotto)"
   ]
  },
  {
   "cell_type": "code",
   "execution_count": 174,
   "id": "63c965b7-8fb5-4190-98de-c1b1c84a6cd1",
   "metadata": {},
   "outputs": [
    {
     "name": "stdout",
     "output_type": "stream",
     "text": [
      "[9, 11, 13, 21, 22, 27]\n",
      "[3, 4, 7, 25, 27, 31]\n",
      "[6, 7, 24, 25, 28, 41]\n",
      "[7, 17, 20, 25, 33, 40]\n",
      "[3, 16, 19, 38, 40, 42]\n",
      "[4, 17, 23, 27, 44, 45]\n"
     ]
    }
   ],
   "source": [
    "for i in range(6):\n",
    "    lotto = random.sample(range(1,46),6)\n",
    "    lotto.sort()\n",
    "    print(lotto)"
   ]
  },
  {
   "cell_type": "raw",
   "id": "01129131-6d20-44d5-8293-a3fd7cd493c4",
   "metadata": {},
   "source": [
    "quiz 03> 커피메뉴 관리프로그램\n",
    "데이터 저장은 딕셔너리로.. {'메뉴명':가격,'coffe':2000}\n",
    "프로그램에서 사용할 메뉴\n",
    " 1. 메뉴입력  2.메뉴수정 3.메뉴목록 4.메뉴삭제 5.프로그램종료\n",
    " - 메뉴입력 : 메뉴명과 가격을 입력받아서 저장 \n",
    " - 메뉴수정 : 메뉴명을 확인하고 있는 메뉴에 가격을 입력받아 수정\n",
    " - 메뉴목록 : 저장된 메뉴명과 가격을 출력(천단위구분기호표기),메뉴명 순서대로 출력\n",
    " - 메뉴삭제 : 메뉴명을 확인하고 있는 메뉴에서 삭제\n",
    " - 프로그램 종료 : 프로그램을 종료하는 메시지를 출력하고 종료\n",
    " - 메뉴1~5까지만 입력받고 다른 값이 들어오면 관련 에러 메시지를 출력한다.\n",
    " - 가격은 숫자로 입력해야됨"
   ]
  },
  {
   "cell_type": "code",
   "execution_count": 15,
   "id": "f0c4f799-1770-4a2c-b757-c635a984263e",
   "metadata": {
    "tags": []
   },
   "outputs": [
    {
     "name": "stdin",
     "output_type": "stream",
     "text": [
      "\n",
      "--------------------------------------------------------------\n",
      "1. 메뉴입력   2. 메뉴수정  3.메뉴목록  4.메뉴삭제  5.프로그램종료\n",
      "--------------------------------------------------------------\n",
      "메뉴선택 >>>  3\n"
     ]
    },
    {
     "name": "stdout",
     "output_type": "stream",
     "text": [
      "------ menu ------\n",
      "라떼 : 4,000\n",
      "코코아 : 3,500\n",
      "아이스아메리카노 : 3,000\n"
     ]
    },
    {
     "name": "stdin",
     "output_type": "stream",
     "text": [
      "\n",
      "--------------------------------------------------------------\n",
      "1. 메뉴입력   2. 메뉴수정  3.메뉴목록  4.메뉴삭제  5.프로그램종료\n",
      "--------------------------------------------------------------\n",
      "메뉴선택 >>>  5\n"
     ]
    },
    {
     "name": "stdout",
     "output_type": "stream",
     "text": [
      "프로그램을 종료합니다.\n"
     ]
    }
   ],
   "source": [
    "menu = {'아이스아메리카노':3000,'라떼':4000,'코코아':3500}\n",
    "while True:\n",
    "    choice = input('''\n",
    "--------------------------------------------------------------\n",
    "1. 메뉴입력   2. 메뉴수정  3.메뉴목록  4.메뉴삭제  5.프로그램종료\n",
    "--------------------------------------------------------------\n",
    "메뉴선택 >>> ''')\n",
    "    if choice == '1':\n",
    "        print('현재메뉴 :',list(menu.keys()))\n",
    "        name = input('추가할 메뉴명을 입력하세요 >>>')\n",
    "        price = 'a'\n",
    "        while not price.isdecimal():\n",
    "            price = input('추가할 메뉴의 가격을 입력하세요 >>>')\n",
    "        menu[name]=int(price)\n",
    "    elif choice == '2':\n",
    "        print('현재메뉴 :',list(menu.keys()))\n",
    "        name = ''\n",
    "        while not name in menu.keys():\n",
    "            name = input('수정할 메뉴명을 입력하세요 >>>')\n",
    "        price = 'a'\n",
    "        while not price.isdecimal():\n",
    "            price = input('수정할 메뉴의 가격을 입력하세요 >>>')\n",
    "        menu[name]=int(price)\n",
    "    elif choice == '3':\n",
    "        print('------ menu ------')\n",
    "        for item in sorted(menu.items(),key=lambda data:data[1],reverse=True):\n",
    "            print(f'{item[0]} : {item[1]:,}')\n",
    "    elif choice == '4':\n",
    "        print('현재메뉴 :',list(menu.keys()))\n",
    "        name = ''\n",
    "        while not name in menu.keys():\n",
    "            name = input('삭제할 메뉴명을 입력하세요 >>>')\n",
    "        del menu[name]\n",
    "    elif choice == '5':\n",
    "        print('프로그램을 종료합니다.')\n",
    "        break\n",
    "    else:\n",
    "        print('메뉴를 잘못 선택 하셨습니다.')"
   ]
  },
  {
   "cell_type": "raw",
   "id": "68494846-16dc-43b7-9e58-9cd0fb5f0ed7",
   "metadata": {
    "tags": []
   },
   "source": [
    "# sorted()\n",
    "list1=[5,2,3,1,4]\n",
    "dict1={'아이스아메리카노':3000,'라떼':4000,'코코아':3500}"
   ]
  },
  {
   "cell_type": "code",
   "execution_count": 176,
   "id": "2501e1a4-204e-4cb9-bf11-1440e5e1335d",
   "metadata": {},
   "outputs": [
    {
     "data": {
      "text/plain": [
       "[1, 2, 3, 4, 5]"
      ]
     },
     "execution_count": 176,
     "metadata": {},
     "output_type": "execute_result"
    }
   ],
   "source": [
    "sorted(list1)"
   ]
  },
  {
   "cell_type": "code",
   "execution_count": 177,
   "id": "8007d848-9d71-417b-8e63-3ff01a9d7ef7",
   "metadata": {},
   "outputs": [
    {
     "data": {
      "text/plain": [
       "[5, 2, 3, 1, 4]"
      ]
     },
     "execution_count": 177,
     "metadata": {},
     "output_type": "execute_result"
    }
   ],
   "source": [
    "list1"
   ]
  },
  {
   "cell_type": "code",
   "execution_count": 178,
   "id": "ce3c37e8-e648-425f-b69b-94c79ebc9f88",
   "metadata": {},
   "outputs": [
    {
     "data": {
      "text/plain": [
       "['라떼', '아이스아메리카노', '코코아']"
      ]
     },
     "execution_count": 178,
     "metadata": {},
     "output_type": "execute_result"
    }
   ],
   "source": [
    "sorted(dict1)"
   ]
  },
  {
   "cell_type": "code",
   "execution_count": 184,
   "id": "552eaedb-e526-4750-a95d-867f1f5545cf",
   "metadata": {},
   "outputs": [
    {
     "data": {
      "text/plain": [
       "dict_items([('아이스아메리카노', 3000), ('라떼', 4000), ('코코아', 3500)])"
      ]
     },
     "execution_count": 184,
     "metadata": {},
     "output_type": "execute_result"
    }
   ],
   "source": [
    "dict1.items()"
   ]
  },
  {
   "cell_type": "code",
   "execution_count": 183,
   "id": "7e3d2a66-7873-4b28-bbb8-05baf7283fdc",
   "metadata": {},
   "outputs": [
    {
     "data": {
      "text/plain": [
       "[('아이스아메리카노', 3000), ('코코아', 3500), ('라떼', 4000)]"
      ]
     },
     "execution_count": 183,
     "metadata": {},
     "output_type": "execute_result"
    }
   ],
   "source": [
    "sorted(dict1.items(),key=lambda data:data[1])"
   ]
  },
  {
   "cell_type": "code",
   "execution_count": 185,
   "id": "0325b396-2e5e-4250-876e-19beb7b86a78",
   "metadata": {},
   "outputs": [],
   "source": [
    "student_tu = [('john','A',15),\n",
    "              ('jane','B',12),\n",
    "              ('dave','B',10)]"
   ]
  },
  {
   "cell_type": "code",
   "execution_count": 186,
   "id": "8bbf45a9-90b4-4054-b591-525395165dde",
   "metadata": {},
   "outputs": [
    {
     "data": {
      "text/plain": [
       "[('dave', 'B', 10), ('jane', 'B', 12), ('john', 'A', 15)]"
      ]
     },
     "execution_count": 186,
     "metadata": {},
     "output_type": "execute_result"
    }
   ],
   "source": [
    "sorted(student_tu)"
   ]
  },
  {
   "cell_type": "code",
   "execution_count": 188,
   "id": "abf040ff-6ec6-4ce6-ba5c-c961215b20e0",
   "metadata": {},
   "outputs": [
    {
     "data": {
      "text/plain": [
       "[('john', 'A', 15), ('jane', 'B', 12), ('dave', 'B', 10)]"
      ]
     },
     "execution_count": 188,
     "metadata": {},
     "output_type": "execute_result"
    }
   ],
   "source": [
    "sorted(student_tu,key=lambda x :x[2],reverse=True)"
   ]
  },
  {
   "cell_type": "raw",
   "id": "355c8c72-1b62-4922-ab1a-b35021ae2813",
   "metadata": {},
   "source": [
    "quiz 04 >\n",
    "quiz 03에 내용을 프로그램 시작시 읽어오고 프로그램 종료시에 저장"
   ]
  },
  {
   "cell_type": "code",
   "execution_count": 48,
   "id": "2ddd0f20-e36a-49f0-a2a0-b17bfb4a4eeb",
   "metadata": {},
   "outputs": [
    {
     "name": "stdin",
     "output_type": "stream",
     "text": [
      "\n",
      "--------------------------------------------------------------\n",
      "1. 메뉴입력   2. 메뉴수정  3.메뉴목록  4.메뉴삭제  5.프로그램종료\n",
      "--------------------------------------------------------------\n",
      "메뉴선택 >>>  3\n"
     ]
    },
    {
     "name": "stdout",
     "output_type": "stream",
     "text": [
      "------ menu ------\n",
      "라떼 : 4,000\n",
      "코코아 : 3,500\n",
      "아이스아메리카노 : 3,000\n",
      "우유 : 2,000\n"
     ]
    },
    {
     "name": "stdin",
     "output_type": "stream",
     "text": [
      "\n",
      "--------------------------------------------------------------\n",
      "1. 메뉴입력   2. 메뉴수정  3.메뉴목록  4.메뉴삭제  5.프로그램종료\n",
      "--------------------------------------------------------------\n",
      "메뉴선택 >>>  5\n"
     ]
    },
    {
     "name": "stdout",
     "output_type": "stream",
     "text": [
      "프로그램을 종료합니다.\n"
     ]
    }
   ],
   "source": [
    "import json\n",
    "\n",
    "f = open('menu.json','r')\n",
    "menu = json.load(f)\n",
    "f.close()\n",
    "\n",
    "# menu = {'아이스아메리카노':3000,'라떼':4000,'코코아':3500}\n",
    "while True:\n",
    "    choice = input('''\n",
    "--------------------------------------------------------------\n",
    "1. 메뉴입력   2. 메뉴수정  3.메뉴목록  4.메뉴삭제  5.프로그램종료\n",
    "--------------------------------------------------------------\n",
    "메뉴선택 >>> ''')\n",
    "    if choice == '1':\n",
    "        print('현재메뉴 :',list(menu.keys()))\n",
    "        name = input('추가할 메뉴명을 입력하세요 >>>')\n",
    "        price = 'a'\n",
    "        while not price.isdecimal():\n",
    "            price = input('추가할 메뉴의 가격을 입력하세요 >>>')\n",
    "        menu[name]=int(price)\n",
    "    elif choice == '2':\n",
    "        print('현재메뉴 :',list(menu.keys()))\n",
    "        name = ''\n",
    "        while not name in menu.keys():\n",
    "            name = input('수정할 메뉴명을 입력하세요 >>>')\n",
    "        price = 'a'\n",
    "        while not price.isdecimal():\n",
    "            price = input('수정할 메뉴의 가격을 입력하세요 >>>')\n",
    "        menu[name]=int(price)\n",
    "    elif choice == '3':\n",
    "        print('------ menu ------')\n",
    "        for item in sorted(menu.items(),key=lambda data:data[1],reverse=True):\n",
    "            print(f'{item[0]} : {item[1]:,}')\n",
    "    elif choice == '4':\n",
    "        print('현재메뉴 :',list(menu.keys()))\n",
    "        name = ''\n",
    "        while not name in menu.keys():\n",
    "            name = input('삭제할 메뉴명을 입력하세요 >>>')\n",
    "        del menu[name]\n",
    "    elif choice == '5':\n",
    "        print('프로그램을 종료합니다.')\n",
    "        f = open('menu.json','w')\n",
    "        json.dump(menu,f)\n",
    "        f.close()\n",
    "        break\n",
    "    else:\n",
    "        print('메뉴를 잘못 선택 하셨습니다.')"
   ]
  },
  {
   "cell_type": "code",
   "execution_count": 16,
   "id": "22d3ff1e-e07f-4f5c-b750-a927dcef9296",
   "metadata": {},
   "outputs": [],
   "source": [
    "file = open('hello.txt','w')"
   ]
  },
  {
   "cell_type": "code",
   "execution_count": 17,
   "id": "7a61b108-5510-4372-b965-fef78bc078de",
   "metadata": {},
   "outputs": [
    {
     "data": {
      "text/plain": [
       "12"
      ]
     },
     "execution_count": 17,
     "metadata": {},
     "output_type": "execute_result"
    }
   ],
   "source": [
    "file.write('hello world!')"
   ]
  },
  {
   "cell_type": "code",
   "execution_count": 18,
   "id": "d2a8b42c-2d6a-450e-9c02-5f53eefc322f",
   "metadata": {},
   "outputs": [],
   "source": [
    "file.close()"
   ]
  },
  {
   "cell_type": "code",
   "execution_count": 28,
   "id": "a35d26e9-2ce0-44fb-b533-6e1cb86e55b2",
   "metadata": {},
   "outputs": [],
   "source": [
    "file = open('hello.txt','r')\n",
    "text = file.readlines()"
   ]
  },
  {
   "cell_type": "code",
   "execution_count": 29,
   "id": "658942ad-3a85-4f35-99dc-4927db02a219",
   "metadata": {},
   "outputs": [
    {
     "data": {
      "text/plain": [
       "['hello world!\\n',\n",
       " 'hello world!\\n',\n",
       " 'hello world!\\n',\n",
       " 'hello world!\\n',\n",
       " 'hello world!']"
      ]
     },
     "execution_count": 29,
     "metadata": {},
     "output_type": "execute_result"
    }
   ],
   "source": [
    "text"
   ]
  },
  {
   "cell_type": "code",
   "execution_count": 30,
   "id": "7e99c2b9-f7d9-41a1-9e0c-46a79e62e569",
   "metadata": {},
   "outputs": [],
   "source": [
    "file.close()"
   ]
  },
  {
   "cell_type": "code",
   "execution_count": 31,
   "id": "31c894cd-33ab-425c-afc1-ce021fd4f073",
   "metadata": {},
   "outputs": [],
   "source": [
    "import pickle"
   ]
  },
  {
   "cell_type": "code",
   "execution_count": 32,
   "id": "02240ad3-a646-4cc2-bec8-05f25a3b2637",
   "metadata": {},
   "outputs": [
    {
     "data": {
      "text/plain": [
       "{'아이스아메리카노': 3000, '라떼': 4000, '코코아': 3500}"
      ]
     },
     "execution_count": 32,
     "metadata": {},
     "output_type": "execute_result"
    }
   ],
   "source": [
    "menu"
   ]
  },
  {
   "cell_type": "code",
   "execution_count": 34,
   "id": "b6b86864-4642-418d-8bae-8ddb988a7226",
   "metadata": {},
   "outputs": [],
   "source": [
    "f = open('menu.pickle','wb')\n",
    "pickle.dump(menu,f)\n",
    "f.close()"
   ]
  },
  {
   "cell_type": "code",
   "execution_count": 35,
   "id": "7f871ea9-b091-4967-86a7-45d59885dc12",
   "metadata": {},
   "outputs": [],
   "source": [
    "f = open('menu.pickle','rb')\n",
    "data = pickle.load(f)\n",
    "f.close()"
   ]
  },
  {
   "cell_type": "code",
   "execution_count": 36,
   "id": "c9db7058-8b41-4487-a3df-00d6d4bf4324",
   "metadata": {},
   "outputs": [
    {
     "data": {
      "text/plain": [
       "dict"
      ]
     },
     "execution_count": 36,
     "metadata": {},
     "output_type": "execute_result"
    }
   ],
   "source": [
    "type(data)"
   ]
  },
  {
   "cell_type": "code",
   "execution_count": 37,
   "id": "9ba2f0fe-6b09-40d8-a435-4969f5fd6a5c",
   "metadata": {},
   "outputs": [
    {
     "data": {
      "text/plain": [
       "{'아이스아메리카노': 3000, '라떼': 4000, '코코아': 3500}"
      ]
     },
     "execution_count": 37,
     "metadata": {},
     "output_type": "execute_result"
    }
   ],
   "source": [
    "data"
   ]
  },
  {
   "cell_type": "code",
   "execution_count": 38,
   "id": "6c3fca66-31ac-4d1b-b6cb-79e0242131fb",
   "metadata": {},
   "outputs": [],
   "source": [
    "import json"
   ]
  },
  {
   "cell_type": "code",
   "execution_count": 39,
   "id": "9b978a72-e7f7-449c-a5be-f49f3627f455",
   "metadata": {},
   "outputs": [],
   "source": [
    "f = open('menu.json','w')\n",
    "json.dump(menu,f)\n",
    "f.close()"
   ]
  },
  {
   "cell_type": "code",
   "execution_count": 40,
   "id": "ffe3baba-9683-46b4-8f8f-df1d3fc8adbc",
   "metadata": {},
   "outputs": [],
   "source": [
    "f = open('menu.json','r')\n",
    "data = json.load(f)\n",
    "f.close()"
   ]
  },
  {
   "cell_type": "code",
   "execution_count": 41,
   "id": "af86cbce-23b9-4c0d-aa94-5c49de67f457",
   "metadata": {},
   "outputs": [
    {
     "data": {
      "text/plain": [
       "dict"
      ]
     },
     "execution_count": 41,
     "metadata": {},
     "output_type": "execute_result"
    }
   ],
   "source": [
    "type(data)"
   ]
  },
  {
   "cell_type": "code",
   "execution_count": 42,
   "id": "34fac6a7-983d-4a89-b11d-8fd546cfa322",
   "metadata": {},
   "outputs": [
    {
     "data": {
      "text/plain": [
       "{'아이스아메리카노': 3000, '라떼': 4000, '코코아': 3500}"
      ]
     },
     "execution_count": 42,
     "metadata": {},
     "output_type": "execute_result"
    }
   ],
   "source": [
    "data"
   ]
  },
  {
   "cell_type": "raw",
   "id": "7c58fb45-a757-48b7-9b76-5d139012f9ea",
   "metadata": {},
   "source": [
    "quiz 5>\n",
    "타자게임\n",
    "- 데이터는 word = [\"cat\", \"dog\", \"fox\", \"monkey\", \"mouse\", \"panda\", \"frog\", \"snake\", \"wolf\"]\n",
    "- 문제는 총 5문제가 랜덤으로 나옵니다.\n",
    "- 나온 문제는 맞출때까지 계속 됩니다.\n",
    "- 문제를 맞추면 다음 문제가 나옵니다.\n",
    "- 걸린 시간을 보여줍니다."
   ]
  },
  {
   "cell_type": "code",
   "execution_count": 126,
   "id": "b0b5041b-6447-4614-ac4f-a1a34ef0dd14",
   "metadata": {
    "collapsed": true,
    "jupyter": {
     "outputs_hidden": true
    },
    "tags": []
   },
   "outputs": [
    {
     "name": "stdin",
     "output_type": "stream",
     "text": [
      "시작!(enter) \n"
     ]
    },
    {
     "name": "stdout",
     "output_type": "stream",
     "text": [
      "1번\n",
      "monkey\n"
     ]
    },
    {
     "name": "stdin",
     "output_type": "stream",
     "text": [
      " monkey\n"
     ]
    },
    {
     "name": "stdout",
     "output_type": "stream",
     "text": [
      "통과!\n",
      "2번\n",
      "monkey\n"
     ]
    },
    {
     "name": "stdin",
     "output_type": "stream",
     "text": [
      " monkey\n"
     ]
    },
    {
     "name": "stdout",
     "output_type": "stream",
     "text": [
      "통과!\n",
      "3번\n",
      "dog\n"
     ]
    },
    {
     "name": "stdin",
     "output_type": "stream",
     "text": [
      " dog\n"
     ]
    },
    {
     "name": "stdout",
     "output_type": "stream",
     "text": [
      "통과!\n",
      "4번\n",
      "cat\n"
     ]
    },
    {
     "name": "stdin",
     "output_type": "stream",
     "text": [
      " cat\n"
     ]
    },
    {
     "name": "stdout",
     "output_type": "stream",
     "text": [
      "통과!\n",
      "5번\n",
      "cat\n"
     ]
    },
    {
     "name": "stdin",
     "output_type": "stream",
     "text": [
      " cat\n"
     ]
    },
    {
     "name": "stdout",
     "output_type": "stream",
     "text": [
      "통과!\n",
      "5문제 다 맞췄습니다.\n",
      "걸린시간:13초\n"
     ]
    }
   ],
   "source": [
    "import random,time\n",
    "\n",
    "word = [\"cat\", \"dog\", \"fox\", \"monkey\", \"mouse\", \"panda\", \"frog\", \"snake\", \"wolf\"]\n",
    "n = 1\n",
    "quiz = random.choice(word)\n",
    "input('시작!(enter)')\n",
    "start = time.time()\n",
    "while n <= 5:\n",
    "    print(f'{n}번')\n",
    "    print(quiz)\n",
    "    x = input()\n",
    "    if quiz == x:\n",
    "        print('통과!')\n",
    "        n += 1\n",
    "        quiz = random.choice(word)\n",
    "    else:\n",
    "        print('오타! 다시도전!') \n",
    "print('5문제 다 맞췄습니다.')\n",
    "end = time.time()\n",
    "print(f'걸린시간:{end-start:.0f}초')"
   ]
  },
  {
   "cell_type": "code",
   "execution_count": 49,
   "id": "338c0199-59c1-4bc7-9423-ac2dbc9788fd",
   "metadata": {},
   "outputs": [],
   "source": [
    "import random"
   ]
  },
  {
   "cell_type": "code",
   "execution_count": 50,
   "id": "dcb41ebf-340b-422a-8756-ddbd52e3ca64",
   "metadata": {},
   "outputs": [],
   "source": [
    " word = [\"cat\", \"dog\", \"fox\", \"monkey\", \"mouse\", \"panda\", \"frog\", \"snake\", \"wolf\"]"
   ]
  },
  {
   "cell_type": "code",
   "execution_count": 70,
   "id": "4fe111bf-ca17-4d89-b198-7627639fdade",
   "metadata": {},
   "outputs": [
    {
     "data": {
      "text/plain": [
       "'cat'"
      ]
     },
     "execution_count": 70,
     "metadata": {},
     "output_type": "execute_result"
    }
   ],
   "source": [
    "random.choice(word)"
   ]
  },
  {
   "cell_type": "code",
   "execution_count": 124,
   "id": "11c7119b-55d8-436b-b8f9-30f5fd3068f1",
   "metadata": {},
   "outputs": [
    {
     "data": {
      "text/plain": [
       "'monkey'"
      ]
     },
     "execution_count": 124,
     "metadata": {},
     "output_type": "execute_result"
    }
   ],
   "source": [
    "word[random.randint(0,len(word)-1)]"
   ]
  },
  {
   "cell_type": "raw",
   "id": "93a70584-59f0-41ac-beb3-4b293a238e44",
   "metadata": {},
   "source": [
    "quiz 6>\n",
    "앞에 타자 게임을 활용\n",
    "- 1. 문제추가  2. 타자게임 3.등수리스트 4.종료하기\n",
    "- 문제추가 후 데이터는 파일 저장 \n",
    "- 문제추가는 단어를 입력받아서 중복되지 않게 추가 ,종료 전까지 계속 추가 작업 진행\n",
    "- 타자게임은 시간을 체크하고, 걸린시간을 사용자명과 함께 저장합니다. (딕셔너리로 저장:등수데이터)\n",
    "- 등수리스트는 걸린시간이 적은 순서대로 정렬해서 출력합니다.\n",
    "- 종료하기는 등수데이터를 저장하고 진행합니다.\n",
    "- 프로그램이 시작될 때 문제와 등수정보를 읽어 옵니다. "
   ]
  },
  {
   "cell_type": "code",
   "execution_count": null,
   "id": "fa07f0f6-34df-4e89-b291-9d5f5e11a44b",
   "metadata": {},
   "outputs": [
    {
     "name": "stdin",
     "output_type": "stream",
     "text": [
      "\n",
      "1.문제추가  2.타자게임  3.등수리스트 4.종료하기\n",
      "메뉴선택 >>>  3\n"
     ]
    },
    {
     "name": "stdout",
     "output_type": "stream",
     "text": [
      "0등 bbb 8.92\n",
      "1등 ddd 9.05\n",
      "2등 ccc 10.06\n",
      "3등 aaa 10.11\n"
     ]
    }
   ],
   "source": [
    "import random,time,json\n",
    "\n",
    "# word = [\"cat\", \"dog\", \"fox\", \"monkey\", \"mouse\", \"panda\", \"frog\", \"snake\", \"wolf\"]\n",
    "# rank = {'aaa':10.111}\n",
    "\n",
    "with open('word.json','r') as f:\n",
    "    word = json.load(f)\n",
    "with open('rank.json','r') as f:\n",
    "    rank = json.load(f) \n",
    "\n",
    "while True:\n",
    "    menu = input('''\n",
    "1.문제추가  2.타자게임  3.등수리스트 4.종료하기\n",
    "메뉴선택 >>> ''')\n",
    "    if menu =='1':\n",
    "        while True:\n",
    "            quiz = input('추가할 단어를 입력(종료:0) >>>')\n",
    "            while quiz in word:\n",
    "                quiz = input('중복된 단어 입니다. 다시 입력(종료:0) >>>')\n",
    "            if quiz == '0':\n",
    "                break\n",
    "            word.append(quiz)\n",
    "            print(word)\n",
    "        with open('word.json','w') as f:\n",
    "            json.dump(word,f)\n",
    "    elif menu == '2':\n",
    "        n = 1\n",
    "        quiz = random.choice(word)\n",
    "        input('시작!(enter)')\n",
    "        start = time.time()\n",
    "        while n <= 5:\n",
    "            print(f'{n}번')\n",
    "            print(quiz)\n",
    "            x = input()\n",
    "            if quiz == x:\n",
    "                print('통과!')\n",
    "                n += 1\n",
    "                quiz = random.choice(word)\n",
    "            else:\n",
    "                print('오타! 다시도전!') \n",
    "        print('5문제 다 맞췄습니다.')\n",
    "        end = time.time()\n",
    "        print(f'걸린시간:{end-start:.0f}초')\n",
    "        name = input('사용자명을 입력하세요 >>>')\n",
    "        while name in rank:\n",
    "            name = input('사용자명이 중복됩니다. 다른 이름을 입력하세요 >>>')\n",
    "        rank[name]=end-start\n",
    "        print(rank)\n",
    "    elif menu == '3':\n",
    "        ranklist = sorted(rank.items(),key=lambda x:x[1])\n",
    "        for index,item in enumerate(ranklist):\n",
    "            print(f'{index+1}등 {item[0]} {item[1]:.2f}')\n",
    "    elif menu == '4':\n",
    "        print('프로그램을 종료합니다.')\n",
    "        with open('rank.json','w') as f:\n",
    "            json.dump(rank,f)\n",
    "        break\n",
    "    else:\n",
    "        print('메뉴선택을 잘못하셨습니다.')"
   ]
  },
  {
   "cell_type": "code",
   "execution_count": 1,
   "id": "f6cbe57b-d0dc-4a8c-b5e7-b66c6c73296f",
   "metadata": {},
   "outputs": [
    {
     "ename": "KeyboardInterrupt",
     "evalue": "Interrupted by user",
     "output_type": "error",
     "traceback": [
      "\u001b[1;31m---------------------------------------------------------------------------\u001b[0m",
      "\u001b[1;31mKeyboardInterrupt\u001b[0m                         Traceback (most recent call last)",
      "\u001b[1;32m~\\AppData\\Local\\Temp/ipykernel_9864/2322000331.py\u001b[0m in \u001b[0;36m<module>\u001b[1;34m\u001b[0m\n\u001b[0;32m     12\u001b[0m \u001b[1;33m\u001b[0m\u001b[0m\n\u001b[0;32m     13\u001b[0m \u001b[1;32mwhile\u001b[0m \u001b[1;32mTrue\u001b[0m\u001b[1;33m:\u001b[0m\u001b[1;33m\u001b[0m\u001b[1;33m\u001b[0m\u001b[0m\n\u001b[1;32m---> 14\u001b[1;33m     \u001b[0minvalue\u001b[0m \u001b[1;33m=\u001b[0m \u001b[0minput\u001b[0m\u001b[1;33m(\u001b[0m\u001b[1;34m'주민등록번호 입력(14자리,종료:q,Q) >>>'\u001b[0m\u001b[1;33m)\u001b[0m\u001b[1;33m\u001b[0m\u001b[1;33m\u001b[0m\u001b[0m\n\u001b[0m\u001b[0;32m     15\u001b[0m     \u001b[1;32mif\u001b[0m \u001b[0mlen\u001b[0m\u001b[1;33m(\u001b[0m\u001b[0minvalue\u001b[0m\u001b[1;33m)\u001b[0m \u001b[1;33m==\u001b[0m \u001b[1;36m1\u001b[0m \u001b[1;32mand\u001b[0m \u001b[0minvalue\u001b[0m\u001b[1;33m.\u001b[0m\u001b[0mlower\u001b[0m\u001b[1;33m(\u001b[0m\u001b[1;33m)\u001b[0m \u001b[1;33m==\u001b[0m \u001b[1;34m'q'\u001b[0m\u001b[1;33m:\u001b[0m\u001b[1;33m\u001b[0m\u001b[1;33m\u001b[0m\u001b[0m\n\u001b[0;32m     16\u001b[0m         \u001b[0mprint\u001b[0m\u001b[1;33m(\u001b[0m\u001b[1;34m'프로그램 종료'\u001b[0m\u001b[1;33m)\u001b[0m\u001b[1;33m\u001b[0m\u001b[1;33m\u001b[0m\u001b[0m\n",
      "\u001b[1;32m~\\anaconda3\\lib\\site-packages\\ipykernel\\kernelbase.py\u001b[0m in \u001b[0;36mraw_input\u001b[1;34m(self, prompt)\u001b[0m\n\u001b[0;32m   1004\u001b[0m                 \u001b[1;34m\"raw_input was called, but this frontend does not support input requests.\"\u001b[0m\u001b[1;33m\u001b[0m\u001b[1;33m\u001b[0m\u001b[0m\n\u001b[0;32m   1005\u001b[0m             )\n\u001b[1;32m-> 1006\u001b[1;33m         return self._input_request(\n\u001b[0m\u001b[0;32m   1007\u001b[0m             \u001b[0mstr\u001b[0m\u001b[1;33m(\u001b[0m\u001b[0mprompt\u001b[0m\u001b[1;33m)\u001b[0m\u001b[1;33m,\u001b[0m\u001b[1;33m\u001b[0m\u001b[1;33m\u001b[0m\u001b[0m\n\u001b[0;32m   1008\u001b[0m             \u001b[0mself\u001b[0m\u001b[1;33m.\u001b[0m\u001b[0m_parent_ident\u001b[0m\u001b[1;33m[\u001b[0m\u001b[1;34m\"shell\"\u001b[0m\u001b[1;33m]\u001b[0m\u001b[1;33m,\u001b[0m\u001b[1;33m\u001b[0m\u001b[1;33m\u001b[0m\u001b[0m\n",
      "\u001b[1;32m~\\anaconda3\\lib\\site-packages\\ipykernel\\kernelbase.py\u001b[0m in \u001b[0;36m_input_request\u001b[1;34m(self, prompt, ident, parent, password)\u001b[0m\n\u001b[0;32m   1049\u001b[0m             \u001b[1;32mexcept\u001b[0m \u001b[0mKeyboardInterrupt\u001b[0m\u001b[1;33m:\u001b[0m\u001b[1;33m\u001b[0m\u001b[1;33m\u001b[0m\u001b[0m\n\u001b[0;32m   1050\u001b[0m                 \u001b[1;31m# re-raise KeyboardInterrupt, to truncate traceback\u001b[0m\u001b[1;33m\u001b[0m\u001b[1;33m\u001b[0m\u001b[0m\n\u001b[1;32m-> 1051\u001b[1;33m                 \u001b[1;32mraise\u001b[0m \u001b[0mKeyboardInterrupt\u001b[0m\u001b[1;33m(\u001b[0m\u001b[1;34m\"Interrupted by user\"\u001b[0m\u001b[1;33m)\u001b[0m \u001b[1;32mfrom\u001b[0m \u001b[1;32mNone\u001b[0m\u001b[1;33m\u001b[0m\u001b[1;33m\u001b[0m\u001b[0m\n\u001b[0m\u001b[0;32m   1052\u001b[0m             \u001b[1;32mexcept\u001b[0m \u001b[0mException\u001b[0m\u001b[1;33m:\u001b[0m\u001b[1;33m\u001b[0m\u001b[1;33m\u001b[0m\u001b[0m\n\u001b[0;32m   1053\u001b[0m                 \u001b[0mself\u001b[0m\u001b[1;33m.\u001b[0m\u001b[0mlog\u001b[0m\u001b[1;33m.\u001b[0m\u001b[0mwarning\u001b[0m\u001b[1;33m(\u001b[0m\u001b[1;34m\"Invalid Message:\"\u001b[0m\u001b[1;33m,\u001b[0m \u001b[0mexc_info\u001b[0m\u001b[1;33m=\u001b[0m\u001b[1;32mTrue\u001b[0m\u001b[1;33m)\u001b[0m\u001b[1;33m\u001b[0m\u001b[1;33m\u001b[0m\u001b[0m\n",
      "\u001b[1;31mKeyboardInterrupt\u001b[0m: Interrupted by user"
     ]
    }
   ],
   "source": [
    "def jumin_check1(jumin):\n",
    "    gender = ''\n",
    "    if len(jumin) == 14 and jumin[6] == '-' and jumin[7] in ['1','2','3','4']:\n",
    "        if jumin[7] in ['1','3']:\n",
    "            gender='남성'\n",
    "        else:\n",
    "            gender='여성'\n",
    "    else:\n",
    "        print('입력 문자의 길이가 안맞거나, 성별값의 범위가 아닙니다.')\n",
    "    return gender\n",
    "\n",
    "\n",
    "while True:\n",
    "    invalue = input('주민등록번호 입력(14자리,종료:q,Q) >>>')\n",
    "    if len(invalue) == 1 and invalue.lower() == 'q':\n",
    "        print('프로그램 종료')\n",
    "        break\n",
    "    gender = jumin_check1(invalue)\n",
    "    print(gender)"
   ]
  },
  {
   "cell_type": "code",
   "execution_count": null,
   "id": "6fd75879-14d6-42eb-ab50-302e0db51771",
   "metadata": {},
   "outputs": [],
   "source": []
  }
 ],
 "metadata": {
  "kernelspec": {
   "display_name": "Python 3 (ipykernel)",
   "language": "python",
   "name": "python3"
  },
  "language_info": {
   "codemirror_mode": {
    "name": "ipython",
    "version": 3
   },
   "file_extension": ".py",
   "mimetype": "text/x-python",
   "name": "python",
   "nbconvert_exporter": "python",
   "pygments_lexer": "ipython3",
   "version": "3.9.7"
  }
 },
 "nbformat": 4,
 "nbformat_minor": 5
}
